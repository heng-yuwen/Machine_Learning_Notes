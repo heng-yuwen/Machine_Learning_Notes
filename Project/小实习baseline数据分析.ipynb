{
 "cells": [
  {
   "cell_type": "code",
   "execution_count": 2,
   "metadata": {},
   "outputs": [],
   "source": [
    "# 1.Import everything we need\n",
    "import pandas as pd"
   ]
  },
  {
   "cell_type": "markdown",
   "metadata": {},
   "source": [
    "## 1.Prepare the data that we need\n",
    "\n",
    "The data should be with this structure:  \n",
    "\n",
    "### Attribute labels\n",
    "[\"用户ID\", \"微信昵称\", \"微信头像url\", \"手机号\", \"微信性别\", \"微信国家\", \"微信省份\", \"微信城市\", \"微信语言\", \"填写性别\", \"填写出生日期\", \"填写最高学历\", \"填写最高学历就读院校\", \"填写最高学历就读专业\", \"填写最高学历入学年份\", \"参与大赛数量\", \"参与大赛任务数\", \"大赛任务完成数量\", \"大赛通过数量\"]\n",
    "\n",
    "其中，“填写”对应的数据，以报名报表为主，报名表中不存在的数据项，以简历为主，都没有则为0，注意，“最高学历”相关的数据项，只能从统一数据源获取，如果数据源内容都不全，则相关数据项全为0即可；\n",
    "\n",
    "\n"
   ]
  },
  {
   "cell_type": "code",
   "execution_count": 3,
   "metadata": {},
   "outputs": [],
   "source": [
    "# 1.Load the data frame for the customer data.\n"
   ]
  },
  {
   "cell_type": "code",
   "execution_count": null,
   "metadata": {},
   "outputs": [],
   "source": []
  }
 ],
 "metadata": {
  "kernelspec": {
   "display_name": "pytorch",
   "language": "python",
   "name": "pytorch"
  },
  "language_info": {
   "codemirror_mode": {
    "name": "ipython",
    "version": 3
   },
   "file_extension": ".py",
   "mimetype": "text/x-python",
   "name": "python",
   "nbconvert_exporter": "python",
   "pygments_lexer": "ipython3",
   "version": "3.7.1"
  }
 },
 "nbformat": 4,
 "nbformat_minor": 2
}
