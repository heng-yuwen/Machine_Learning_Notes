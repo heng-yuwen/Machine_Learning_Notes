{
 "cells": [
  {
   "cell_type": "markdown",
   "metadata": {},
   "source": [
    "# Linear Algebra for Machine Learning\n",
    "\n",
    "This part is all about the mathematic part of machine learning application. As everyone knows, most machine learning algorithms are built upon the general linear algebra operation methods. If we know what linear algebra is, it would be better for us to understand the machine learning algorithms from an inner perspective.\n",
    "\n",
    "**Topic** \n",
    "- Relationship between linear algebra and machine learning\n",
    "- "
   ]
  },
  {
   "cell_type": "markdown",
   "metadata": {},
   "source": [
    "## 1.Why we want to use machine learning techniques ##\n",
    "\n",
    "用ML来预测分析数据，获取更多的价值；（Welcome第一个视频）\n",
    "\n",
    "The goal in machine learning is to find the parameter set where the model fits the data as well as it possibly can"
   ]
  },
  {
   "cell_type": "markdown",
   "metadata": {},
   "source": [
    "## 2.How to express our data\n",
    "用vector的形式来表达attributes，用矩阵乘法的形式来建模，description of the attributes of the house，比如房价；"
   ]
  },
  {
   "cell_type": "markdown",
   "metadata": {},
   "source": [
    "## 3.Math properties that we need to know\n",
    "**1-Vector**\n",
    "\n",
    "什么是Vector，Vector space是如何被Basis Vector定义的，坐标系该如何确定\n",
    "\n",
    "**2-Vector operation**\n",
    "\n",
    "addition of two vectors, multiplication by a scalar number\n",
    "\n",
    "Find the angle between two vectors.\n",
    "\n",
    "**3-Vector properties**\n",
    "\n",
    "Addition: associativity,"
   ]
  },
  {
   "cell_type": "markdown",
   "metadata": {},
   "source": [
    "# Simple Neural Network and Mathematics\n",
    "\n",
    "This part aims to explain the mathematics behind machine learning with a simple nurual network example. The following ideas will be talked:\n",
    "\n",
    "**Topics** \n",
    "1. What is neural network;\n",
    "2. The necessary math part needed to find the solution of the network;\n",
    "3. The probabilistic and statistic knowledge needed to express the business;\n",
    "\n",
    "**Notation**:\n",
    "- Superscript $[l]$ denotes a quantity associated with the $l^{th}$ layer. \n",
    "    - Example: $a^{[L]}$ is the $L^{th}$ layer activation. $W^{[L]}$ and $b^{[L]}$ are the $L^{th}$ layer parameters.\n",
    "- Superscript $(i)$ denotes a quantity associated with the $i^{th}$ example. \n",
    "    - Example: $x^{(i)}$ is the $i^{th}$ training example.\n",
    "- Lowerscript $i$ denotes the $i^{th}$ entry of a vector.\n",
    "    - Example: $a^{[l]}_i$ denotes the $i^{th}$ entry of the $l^{th}$ layer's activations).\n",
    "\n",
    "## 1. What is Neural Network\n",
    "\n",
    "### 1.1 Neural\n",
    "*Neural* is a special type of cell, which can receive and pass information in a complex neural system. It is not necessary for us to know the biology concepts very well. All we need to know is that, by manipulating to the information that it receives, neural can help people understand the world and react to the views that we see or the voice that we hear. \n",
    "\n",
    "Neural network is expected to perform the same way but on machine like robots and modern computers or any IOT systems. \n",
    "\n",
    "We can simply express this \"Neural\" model to a node which can take it's input and do some math in it, then pass it to the next one like the image below.\n",
    "\n",
    "<img src='res/Nerual Node.png' alt='Neural Node' title='Neural Node'>\n",
    "<p style='text-align:center; font-style: italic'>Simplified Neural Node Model</p>\n",
    "\n",
    "The \"node\" can also be called \"Cell\" or \"Perceptron\". It is indeed a calculation kernel that is responsible for the math job.\n",
    "\n",
    "One of the most typical math function is the sigmoid function. The equation is:\n",
    "\n",
    "$$a^{[l+1]} = {\\sigma}({\\omega^{[l]}}a^{[l]} + b^{[l]})$$\n",
    "\n",
    "We won't dive into this part here. The next part we are interested at is, the \"**network**\".\n",
    "\n",
    "### 1.2 Neural Network\n",
    "If we try to understand network intuitively, we would know that it is just some nodes connected together under some rules.\n",
    "\n",
    "The rule, in machin learning aspect, is \"__layer by layer__\". It means that we organize the nodes layer by layer like the picture below. \n",
    "\n",
    "<img src='res/Neural Network.png'>\n",
    "<p style='text-align: center; font-style: italic'>Simple Neural Network Model</p>\n",
    "\n",
    "The neural network provided here is just a simple model. However, it is enough for us to understand what we are dealing with and, we can use this basic model to solve real life questions. For other AI applications like NLP and CV, we can add more features and more nodes to suit the complex application. \n",
    "\n",
    "### 1.3 Real Life Modeling\n",
    "It is quite difficult to understand the relationship between "
   ]
  },
  {
   "cell_type": "code",
   "execution_count": null,
   "metadata": {},
   "outputs": [],
   "source": []
  }
 ],
 "metadata": {
  "kernelspec": {
   "display_name": "pytorch",
   "language": "python",
   "name": "pytorch"
  },
  "language_info": {
   "codemirror_mode": {
    "name": "ipython",
    "version": 3
   },
   "file_extension": ".py",
   "mimetype": "text/x-python",
   "name": "python",
   "nbconvert_exporter": "python",
   "pygments_lexer": "ipython3",
   "version": "3.7.1"
  }
 },
 "nbformat": 4,
 "nbformat_minor": 2
}
